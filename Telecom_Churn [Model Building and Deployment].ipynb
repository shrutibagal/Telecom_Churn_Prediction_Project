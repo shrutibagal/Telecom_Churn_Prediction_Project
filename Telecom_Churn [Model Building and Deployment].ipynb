{
 "cells": [
  {
   "cell_type": "code",
   "execution_count": 1,
   "id": "36692bcb",
   "metadata": {
    "ExecuteTime": {
     "end_time": "2023-04-05T08:38:38.579835Z",
     "start_time": "2023-04-05T08:38:36.682214Z"
    }
   },
   "outputs": [],
   "source": [
    "# Ignore anoying warnings\n",
    "import warnings\n",
    "warnings.filterwarnings(\"ignore\")\n",
    "\n",
    "# Importing all usefull libraries\n",
    "import pandas as pd\n",
    "import numpy as np\n",
    "import seaborn as sns\n",
    "import matplotlib.pyplot as plt\n",
    "\n",
    "from sklearn import svm\n",
    "from sklearn.preprocessing import StandardScaler\n",
    "from sklearn.linear_model import LogisticRegression\n",
    "from sklearn.tree import DecisionTreeClassifier\n",
    "from imblearn.over_sampling import RandomOverSampler\n",
    "from sklearn.ensemble import RandomForestClassifier, GradientBoostingClassifier\n",
    "from sklearn.model_selection import train_test_split, cross_val_score, KFold, GridSearchCV\n",
    "from sklearn.metrics import classification_report, confusion_matrix, accuracy_score, roc_auc_score, roc_curve, auc\n",
    "from sklearn.compose import ColumnTransformer\n",
    "from sklearn.pipeline import Pipeline\n",
    "from sklearn.impute import SimpleImputer\n",
    "\n",
    "from sklearn import set_config\n",
    "set_config(display='diagram')\n",
    "\n",
    "%matplotlib inline"
   ]
  },
  {
   "cell_type": "code",
   "execution_count": 2,
   "id": "1f8b00d8",
   "metadata": {
    "ExecuteTime": {
     "end_time": "2023-04-05T08:38:38.631088Z",
     "start_time": "2023-04-05T08:38:38.581507Z"
    }
   },
   "outputs": [
    {
     "data": {
      "text/html": [
       "<div>\n",
       "<style scoped>\n",
       "    .dataframe tbody tr th:only-of-type {\n",
       "        vertical-align: middle;\n",
       "    }\n",
       "\n",
       "    .dataframe tbody tr th {\n",
       "        vertical-align: top;\n",
       "    }\n",
       "\n",
       "    .dataframe thead th {\n",
       "        text-align: right;\n",
       "    }\n",
       "</style>\n",
       "<table border=\"1\" class=\"dataframe\">\n",
       "  <thead>\n",
       "    <tr style=\"text-align: right;\">\n",
       "      <th></th>\n",
       "      <th>account_length</th>\n",
       "      <th>voice_messages</th>\n",
       "      <th>intl_plan</th>\n",
       "      <th>intl_mins</th>\n",
       "      <th>intl_calls</th>\n",
       "      <th>day_mins</th>\n",
       "      <th>eve_charge</th>\n",
       "      <th>night_mins</th>\n",
       "      <th>customer_calls</th>\n",
       "      <th>churn</th>\n",
       "    </tr>\n",
       "  </thead>\n",
       "  <tbody>\n",
       "    <tr>\n",
       "      <th>0</th>\n",
       "      <td>128</td>\n",
       "      <td>25.0</td>\n",
       "      <td>0</td>\n",
       "      <td>10.0</td>\n",
       "      <td>3.0</td>\n",
       "      <td>265.1</td>\n",
       "      <td>16.78</td>\n",
       "      <td>244.7</td>\n",
       "      <td>1.0</td>\n",
       "      <td>0</td>\n",
       "    </tr>\n",
       "    <tr>\n",
       "      <th>1</th>\n",
       "      <td>107</td>\n",
       "      <td>26.0</td>\n",
       "      <td>0</td>\n",
       "      <td>13.7</td>\n",
       "      <td>3.0</td>\n",
       "      <td>161.6</td>\n",
       "      <td>16.62</td>\n",
       "      <td>254.4</td>\n",
       "      <td>1.0</td>\n",
       "      <td>0</td>\n",
       "    </tr>\n",
       "    <tr>\n",
       "      <th>2</th>\n",
       "      <td>137</td>\n",
       "      <td>0.0</td>\n",
       "      <td>0</td>\n",
       "      <td>12.2</td>\n",
       "      <td>5.0</td>\n",
       "      <td>243.4</td>\n",
       "      <td>10.30</td>\n",
       "      <td>162.6</td>\n",
       "      <td>0.0</td>\n",
       "      <td>0</td>\n",
       "    </tr>\n",
       "    <tr>\n",
       "      <th>3</th>\n",
       "      <td>84</td>\n",
       "      <td>0.0</td>\n",
       "      <td>1</td>\n",
       "      <td>6.6</td>\n",
       "      <td>7.0</td>\n",
       "      <td>299.4</td>\n",
       "      <td>5.50</td>\n",
       "      <td>196.9</td>\n",
       "      <td>2.0</td>\n",
       "      <td>0</td>\n",
       "    </tr>\n",
       "    <tr>\n",
       "      <th>4</th>\n",
       "      <td>75</td>\n",
       "      <td>0.0</td>\n",
       "      <td>1</td>\n",
       "      <td>10.1</td>\n",
       "      <td>3.0</td>\n",
       "      <td>166.7</td>\n",
       "      <td>12.61</td>\n",
       "      <td>186.9</td>\n",
       "      <td>3.0</td>\n",
       "      <td>0</td>\n",
       "    </tr>\n",
       "  </tbody>\n",
       "</table>\n",
       "</div>"
      ],
      "text/plain": [
       "   account_length  voice_messages  intl_plan  intl_mins  intl_calls  day_mins  \\\n",
       "0             128            25.0          0       10.0         3.0     265.1   \n",
       "1             107            26.0          0       13.7         3.0     161.6   \n",
       "2             137             0.0          0       12.2         5.0     243.4   \n",
       "3              84             0.0          1        6.6         7.0     299.4   \n",
       "4              75             0.0          1       10.1         3.0     166.7   \n",
       "\n",
       "   eve_charge  night_mins  customer_calls  churn  \n",
       "0       16.78       244.7             1.0      0  \n",
       "1       16.62       254.4             1.0      0  \n",
       "2       10.30       162.6             0.0      0  \n",
       "3        5.50       196.9             2.0      0  \n",
       "4       12.61       186.9             3.0      0  "
      ]
     },
     "execution_count": 2,
     "metadata": {},
     "output_type": "execute_result"
    }
   ],
   "source": [
    "# Loading data for model building\n",
    "telecom = pd.read_csv(\"Churn_Model_Building_Data.csv\")\n",
    "\n",
    "# Showing first 5 rows from data set\n",
    "telecom.head()"
   ]
  },
  {
   "cell_type": "code",
   "execution_count": 3,
   "id": "2008867e",
   "metadata": {
    "ExecuteTime": {
     "end_time": "2023-04-05T08:38:38.647243Z",
     "start_time": "2023-04-05T08:38:38.631088Z"
    }
   },
   "outputs": [],
   "source": [
    "# Defining independent (x) & dependent (y) variables for model building purpose\n",
    "\n",
    "x = telecom.iloc[:,:-1]\n",
    "y = telecom['churn']"
   ]
  },
  {
   "cell_type": "code",
   "execution_count": 4,
   "id": "33ba92df",
   "metadata": {
    "ExecuteTime": {
     "end_time": "2023-04-05T08:38:38.663332Z",
     "start_time": "2023-04-05T08:38:38.648752Z"
    }
   },
   "outputs": [
    {
     "data": {
      "text/plain": [
       "0    4293\n",
       "1     707\n",
       "Name: churn, dtype: int64"
      ]
     },
     "execution_count": 4,
     "metadata": {},
     "output_type": "execute_result"
    }
   ],
   "source": [
    "# Target column value count\n",
    "y.value_counts()"
   ]
  },
  {
   "cell_type": "markdown",
   "id": "c0331b8e",
   "metadata": {},
   "source": [
    "## Balancing Data :\n",
    "- **As we see in above target column value counts, the data is imbalanced.** \n",
    "- **For balancing that data we use `RandomOverSampler()`.**"
   ]
  },
  {
   "cell_type": "code",
   "execution_count": 5,
   "id": "ed0031f6",
   "metadata": {
    "ExecuteTime": {
     "end_time": "2023-04-05T08:38:38.679621Z",
     "start_time": "2023-04-05T08:38:38.663332Z"
    }
   },
   "outputs": [
    {
     "name": "stdout",
     "output_type": "stream",
     "text": [
      "0    4293\n",
      "1    4293\n",
      "Name: churn, dtype: int64\n"
     ]
    }
   ],
   "source": [
    "# Creating a RandomOverSampler object\n",
    "ros = RandomOverSampler()\n",
    "\n",
    "# Fitting the RandomOverSampler to the independent & dependent features & perform the oversampling\n",
    "x, y = ros.fit_resample(x, y)\n",
    "\n",
    "# Verify that the dataset is balanced\n",
    "print(y.value_counts())"
   ]
  },
  {
   "cell_type": "markdown",
   "id": "27e2e4e6",
   "metadata": {},
   "source": [
    "- ***Standardize features by removing the mean and scaling to unit variance.***"
   ]
  },
  {
   "cell_type": "code",
   "execution_count": 6,
   "id": "4904f9e6",
   "metadata": {
    "ExecuteTime": {
     "end_time": "2023-04-05T08:38:38.704018Z",
     "start_time": "2023-04-05T08:38:38.680027Z"
    }
   },
   "outputs": [],
   "source": [
    "# Creating object for StandardScaler()\n",
    "sc = StandardScaler()\n",
    "\n",
    "# Standardizing independent (x) features\n",
    "x = sc.fit_transform(x)"
   ]
  },
  {
   "cell_type": "code",
   "execution_count": 7,
   "id": "44b25763",
   "metadata": {
    "ExecuteTime": {
     "end_time": "2023-04-05T08:38:38.717636Z",
     "start_time": "2023-04-05T08:38:38.704838Z"
    }
   },
   "outputs": [],
   "source": [
    "# Splitting data into train & test sets to avoid overfitting & model building purpose\n",
    "xtrain,xtest,ytrain,ytest = train_test_split(x, y, test_size=0.25, random_state=1)"
   ]
  },
  {
   "cell_type": "markdown",
   "id": "64394102",
   "metadata": {},
   "source": [
    "# 1. Logistic Regression :"
   ]
  },
  {
   "cell_type": "code",
   "execution_count": 8,
   "id": "dbbbd280",
   "metadata": {
    "ExecuteTime": {
     "end_time": "2023-04-05T08:38:38.763033Z",
     "start_time": "2023-04-05T08:38:38.720650Z"
    }
   },
   "outputs": [],
   "source": [
    "# Creating object for LogisticRegression()\n",
    "lg = LogisticRegression()\n",
    "\n",
    "# Fitting the model on training data\n",
    "lg.fit(xtrain,ytrain)\n",
    "\n",
    "# Prediction\n",
    "lg_pred = lg.predict(xtest)"
   ]
  },
  {
   "cell_type": "code",
   "execution_count": 9,
   "id": "55f4365f",
   "metadata": {
    "ExecuteTime": {
     "end_time": "2023-04-05T08:38:38.779221Z",
     "start_time": "2023-04-05T08:38:38.763033Z"
    }
   },
   "outputs": [
    {
     "name": "stdout",
     "output_type": "stream",
     "text": [
      "Training Accuracy :  0.7364497592793912\n",
      "Testing Accuracy :  0.7368421052631579\n"
     ]
    }
   ],
   "source": [
    "# Training & Testing accuracy\n",
    "print('Training Accuracy : ', lg.score(xtrain,ytrain))\n",
    "print('Testing Accuracy : ', lg.score(xtest,ytest))"
   ]
  },
  {
   "cell_type": "code",
   "execution_count": 10,
   "id": "83a05a74",
   "metadata": {
    "ExecuteTime": {
     "end_time": "2023-04-05T08:38:38.803615Z",
     "start_time": "2023-04-05T08:38:38.779221Z"
    }
   },
   "outputs": [
    {
     "name": "stdout",
     "output_type": "stream",
     "text": [
      "              precision    recall  f1-score   support\n",
      "\n",
      "           0       0.72      0.76      0.74      1068\n",
      "           1       0.75      0.71      0.73      1079\n",
      "\n",
      "    accuracy                           0.74      2147\n",
      "   macro avg       0.74      0.74      0.74      2147\n",
      "weighted avg       0.74      0.74      0.74      2147\n",
      "\n"
     ]
    }
   ],
   "source": [
    "# Showing the main classification metrics\n",
    "print(classification_report(ytest,lg_pred))"
   ]
  },
  {
   "cell_type": "code",
   "execution_count": 11,
   "id": "b2a54b7b",
   "metadata": {
    "ExecuteTime": {
     "end_time": "2023-04-05T08:38:38.983177Z",
     "start_time": "2023-04-05T08:38:38.805925Z"
    }
   },
   "outputs": [
    {
     "data": {
      "text/plain": [
       "Text(50.722222222222214, 0.5, 'Predicted Values')"
      ]
     },
     "execution_count": 11,
     "metadata": {},
     "output_type": "execute_result"
    },
    {
     "data": {
      "image/png": "[encoded data removed]",
      "text/plain": [
       "<Figure size 640x480 with 2 Axes>"
      ]
     },
     "metadata": {},
     "output_type": "display_data"
    }
   ],
   "source": [
    "# Computing confusion matrix to evaluate the accuracy of a classification.\n",
    "\n",
    "sns.heatmap(confusion_matrix(ytest,lg_pred), annot=True)\n",
    "plt.xlabel('Actual Values')\n",
    "plt.ylabel('Predicted Values')"
   ]
  },
  {
   "cell_type": "code",
   "execution_count": 12,
   "id": "930007e7",
   "metadata": {
    "ExecuteTime": {
     "end_time": "2023-04-05T08:38:38.996987Z",
     "start_time": "2023-04-05T08:38:38.985568Z"
    }
   },
   "outputs": [
    {
     "data": {
      "text/plain": [
       "0.7368421052631579"
      ]
     },
     "execution_count": 12,
     "metadata": {},
     "output_type": "execute_result"
    }
   ],
   "source": [
    "# Accuracy classification score.\n",
    "accuracy_score(ytest,lg_pred)"
   ]
  },
  {
   "cell_type": "markdown",
   "id": "dab82572",
   "metadata": {},
   "source": [
    "# 2. Random Forests Classifier :"
   ]
  },
  {
   "cell_type": "code",
   "execution_count": 13,
   "id": "4e1513bb",
   "metadata": {
    "ExecuteTime": {
     "end_time": "2023-04-05T08:38:39.630411Z",
     "start_time": "2023-04-05T08:38:38.997561Z"
    }
   },
   "outputs": [],
   "source": [
    "# Create object for RandomForestClassifier()\n",
    "rf = RandomForestClassifier()\n",
    "\n",
    "# Fitting the model on training data\n",
    "rf.fit(xtrain,ytrain)\n",
    "\n",
    "# Prediction\n",
    "rf_pred = rf.predict(xtest) "
   ]
  },
  {
   "cell_type": "code",
   "execution_count": 14,
   "id": "8b40783c",
   "metadata": {
    "ExecuteTime": {
     "end_time": "2023-04-05T08:38:39.767484Z",
     "start_time": "2023-04-05T08:38:39.631804Z"
    }
   },
   "outputs": [
    {
     "name": "stdout",
     "output_type": "stream",
     "text": [
      "Training Accuracy :  1.0\n",
      "Testing Accuracy :  0.9911504424778761\n"
     ]
    }
   ],
   "source": [
    "# Training & Testing accuracy\n",
    "print('Training Accuracy : ', rf.score(xtrain,ytrain))\n",
    "print('Testing Accuracy : ', rf.score(xtest,ytest))"
   ]
  },
  {
   "cell_type": "code",
   "execution_count": 15,
   "id": "d2fcbaec",
   "metadata": {
    "ExecuteTime": {
     "end_time": "2023-04-05T08:38:39.789432Z",
     "start_time": "2023-04-05T08:38:39.767484Z"
    }
   },
   "outputs": [
    {
     "name": "stdout",
     "output_type": "stream",
     "text": [
      "              precision    recall  f1-score   support\n",
      "\n",
      "           0       1.00      0.98      0.99      1068\n",
      "           1       0.98      1.00      0.99      1079\n",
      "\n",
      "    accuracy                           0.99      2147\n",
      "   macro avg       0.99      0.99      0.99      2147\n",
      "weighted avg       0.99      0.99      0.99      2147\n",
      "\n"
     ]
    }
   ],
   "source": [
    "# Showing the main classification metrics\n",
    "print(classification_report(ytest,rf_pred))"
   ]
  },
  {
   "cell_type": "code",
   "execution_count": 16,
   "id": "7289de66",
   "metadata": {
    "ExecuteTime": {
     "end_time": "2023-04-05T08:38:39.960874Z",
     "start_time": "2023-04-05T08:38:39.791728Z"
    }
   },
   "outputs": [
    {
     "data": {
      "text/plain": [
       "Text(50.722222222222214, 0.5, 'Predicted Values')"
      ]
     },
     "execution_count": 16,
     "metadata": {},
     "output_type": "execute_result"
    },
    {
     "data": {
      "image/png": "[encoded data removed]",
      "text/plain": [
       "<Figure size 640x480 with 2 Axes>"
      ]
     },
     "metadata": {},
     "output_type": "display_data"
    }
   ],
   "source": [
    "# Compute confusion matrix to evaluate the accuracy of a classification.\n",
    "\n",
    "sns.heatmap(confusion_matrix(ytest,rf_pred), annot=True)\n",
    "plt.xlabel('Actual Values')\n",
    "plt.ylabel('Predicted Values')"
   ]
  },
  {
   "cell_type": "code",
   "execution_count": 17,
   "id": "27ea7df7",
   "metadata": {
    "ExecuteTime": {
     "end_time": "2023-04-05T08:38:39.984385Z",
     "start_time": "2023-04-05T08:38:39.960874Z"
    }
   },
   "outputs": [
    {
     "data": {
      "text/plain": [
       "0.9911504424778761"
      ]
     },
     "execution_count": 17,
     "metadata": {},
     "output_type": "execute_result"
    }
   ],
   "source": [
    "# Accuracy classification score.\n",
    "accuracy_score(ytest,rf_pred)"
   ]
  },
  {
   "cell_type": "markdown",
   "id": "dc442d7e",
   "metadata": {},
   "source": [
    "# 3. GradientBoostingClassifier :"
   ]
  },
  {
   "cell_type": "code",
   "execution_count": 18,
   "id": "90e56dc5",
   "metadata": {
    "ExecuteTime": {
     "end_time": "2023-04-05T08:38:40.599907Z",
     "start_time": "2023-04-05T08:38:39.984385Z"
    }
   },
   "outputs": [],
   "source": [
    "# Create object for GradientBoostingClassifier()\n",
    "gb = GradientBoostingClassifier()\n",
    "\n",
    "# Fitting the model on training data\n",
    "gb.fit(xtrain,ytrain)\n",
    "\n",
    "# Prediction\n",
    "gb_pred = gb.predict(xtest)"
   ]
  },
  {
   "cell_type": "code",
   "execution_count": 19,
   "id": "e20e2c84",
   "metadata": {
    "ExecuteTime": {
     "end_time": "2023-04-05T08:38:40.632144Z",
     "start_time": "2023-04-05T08:38:40.599907Z"
    }
   },
   "outputs": [
    {
     "name": "stdout",
     "output_type": "stream",
     "text": [
      "Training Accuracy :  0.9131852772169592\n",
      "Testing Accuracy :  0.9082440614811365\n"
     ]
    }
   ],
   "source": [
    "# Training & Testing accuracy\n",
    "print('Training Accuracy : ', gb.score(xtrain,ytrain))\n",
    "print('Testing Accuracy : ', gb.score(xtest,ytest))"
   ]
  },
  {
   "cell_type": "code",
   "execution_count": 20,
   "id": "188cc529",
   "metadata": {
    "ExecuteTime": {
     "end_time": "2023-04-05T08:38:40.657254Z",
     "start_time": "2023-04-05T08:38:40.632144Z"
    }
   },
   "outputs": [
    {
     "name": "stdout",
     "output_type": "stream",
     "text": [
      "              precision    recall  f1-score   support\n",
      "\n",
      "           0       0.88      0.95      0.91      1068\n",
      "           1       0.94      0.87      0.91      1079\n",
      "\n",
      "    accuracy                           0.91      2147\n",
      "   macro avg       0.91      0.91      0.91      2147\n",
      "weighted avg       0.91      0.91      0.91      2147\n",
      "\n"
     ]
    }
   ],
   "source": [
    "# Showing the main classification metrics\n",
    "print(classification_report(ytest,gb_pred))"
   ]
  },
  {
   "cell_type": "code",
   "execution_count": 21,
   "id": "e6c819d6",
   "metadata": {
    "ExecuteTime": {
     "end_time": "2023-04-05T08:38:40.806195Z",
     "start_time": "2023-04-05T08:38:40.657254Z"
    }
   },
   "outputs": [
    {
     "data": {
      "text/plain": [
       "Text(50.722222222222214, 0.5, 'Predicted Values')"
      ]
     },
     "execution_count": 21,
     "metadata": {},
     "output_type": "execute_result"
    },
    {
     "data": {
      "image/png": "[encoded data removed]",
      "text/plain": [
       "<Figure size 640x480 with 2 Axes>"
      ]
     },
     "metadata": {},
     "output_type": "display_data"
    }
   ],
   "source": [
    "# Compute confusion matrix to evaluate the accuracy of a classification.\n",
    "\n",
    "sns.heatmap(confusion_matrix(ytest,gb_pred), annot=True)\n",
    "plt.xlabel('Actual Values')\n",
    "plt.ylabel('Predicted Values')"
   ]
  },
  {
   "cell_type": "code",
   "execution_count": 22,
   "id": "9a8ce17e",
   "metadata": {
    "ExecuteTime": {
     "end_time": "2023-04-05T08:38:40.816686Z",
     "start_time": "2023-04-05T08:38:40.806195Z"
    }
   },
   "outputs": [
    {
     "data": {
      "text/plain": [
       "0.9082440614811365"
      ]
     },
     "execution_count": 22,
     "metadata": {},
     "output_type": "execute_result"
    }
   ],
   "source": [
    "# Accuracy classification score.\n",
    "accuracy_score(ytest,gb_pred)"
   ]
  },
  {
   "cell_type": "markdown",
   "id": "60e9901d",
   "metadata": {},
   "source": [
    "# 4. Support Vector Machines [SVM] :"
   ]
  },
  {
   "cell_type": "code",
   "execution_count": 23,
   "id": "8865ce5a",
   "metadata": {
    "ExecuteTime": {
     "end_time": "2023-04-05T08:38:42.069356Z",
     "start_time": "2023-04-05T08:38:40.818923Z"
    }
   },
   "outputs": [],
   "source": [
    "# Create object for svm()\n",
    "svm = svm.SVC()\n",
    "\n",
    "# Fitting the model on training data\n",
    "svm.fit(xtrain,ytrain)\n",
    "\n",
    "# Prediction\n",
    "svm_pred = svm.predict(xtest)"
   ]
  },
  {
   "cell_type": "code",
   "execution_count": 24,
   "id": "2d1622d4",
   "metadata": {
    "ExecuteTime": {
     "end_time": "2023-04-05T08:38:43.733518Z",
     "start_time": "2023-04-05T08:38:42.069356Z"
    }
   },
   "outputs": [
    {
     "name": "stdout",
     "output_type": "stream",
     "text": [
      "Training Accuracy :  0.9065072216182637\n",
      "Testing Accuracy :  0.8858872845831393\n"
     ]
    }
   ],
   "source": [
    "# Training & Testing accuracy\n",
    "print('Training Accuracy : ', svm.score(xtrain,ytrain))\n",
    "print('Testing Accuracy : ', svm.score(xtest,ytest))"
   ]
  },
  {
   "cell_type": "code",
   "execution_count": 25,
   "id": "d983b8e5",
   "metadata": {
    "ExecuteTime": {
     "end_time": "2023-04-05T08:38:43.761483Z",
     "start_time": "2023-04-05T08:38:43.735854Z"
    }
   },
   "outputs": [
    {
     "name": "stdout",
     "output_type": "stream",
     "text": [
      "              precision    recall  f1-score   support\n",
      "\n",
      "           0       0.87      0.90      0.89      1068\n",
      "           1       0.90      0.87      0.88      1079\n",
      "\n",
      "    accuracy                           0.89      2147\n",
      "   macro avg       0.89      0.89      0.89      2147\n",
      "weighted avg       0.89      0.89      0.89      2147\n",
      "\n"
     ]
    }
   ],
   "source": [
    "# Showing the main classification metrics\n",
    "print(classification_report(ytest,svm_pred))"
   ]
  },
  {
   "cell_type": "code",
   "execution_count": 26,
   "id": "1009c572",
   "metadata": {
    "ExecuteTime": {
     "end_time": "2023-04-05T08:38:44.023957Z",
     "start_time": "2023-04-05T08:38:43.764908Z"
    }
   },
   "outputs": [
    {
     "data": {
      "text/plain": [
       "Text(50.722222222222214, 0.5, 'Predicted Values')"
      ]
     },
     "execution_count": 26,
     "metadata": {},
     "output_type": "execute_result"
    },
    {
     "data": {
      "image/png": "[encoded data removed]",
      "text/plain": [
       "<Figure size 640x480 with 2 Axes>"
      ]
     },
     "metadata": {},
     "output_type": "display_data"
    }
   ],
   "source": [
    "# Compute confusion matrix to evaluate the accuracy of a classification.\n",
    "\n",
    "sns.heatmap(confusion_matrix(ytest,svm_pred), annot=True)\n",
    "plt.xlabel('Actual Values')\n",
    "plt.ylabel('Predicted Values')"
   ]
  },
  {
   "cell_type": "code",
   "execution_count": 27,
   "id": "9a3f717c",
   "metadata": {
    "ExecuteTime": {
     "end_time": "2023-04-05T08:38:44.040522Z",
     "start_time": "2023-04-05T08:38:44.023957Z"
    }
   },
   "outputs": [
    {
     "data": {
      "text/plain": [
       "0.8858872845831393"
      ]
     },
     "execution_count": 27,
     "metadata": {},
     "output_type": "execute_result"
    }
   ],
   "source": [
    "# Accuracy classification score.\n",
    "accuracy_score(ytest,svm_pred)"
   ]
  },
  {
   "cell_type": "markdown",
   "id": "b684119b",
   "metadata": {},
   "source": [
    "# 5. Decision Tree Classifier :"
   ]
  },
  {
   "cell_type": "code",
   "execution_count": 28,
   "id": "8a2ffd0f",
   "metadata": {
    "ExecuteTime": {
     "end_time": "2023-04-05T08:38:44.104533Z",
     "start_time": "2023-04-05T08:38:44.056555Z"
    }
   },
   "outputs": [],
   "source": [
    "# Create object for DecisionTreeClassifier()\n",
    "dt = DecisionTreeClassifier()\n",
    "\n",
    "# Fitting the model on training data\n",
    "dt.fit(xtrain,ytrain)\n",
    "\n",
    "# Prediction\n",
    "dt_pred = dt.predict(xtest)"
   ]
  },
  {
   "cell_type": "code",
   "execution_count": 29,
   "id": "42e355b0",
   "metadata": {
    "ExecuteTime": {
     "end_time": "2023-04-05T08:38:44.123798Z",
     "start_time": "2023-04-05T08:38:44.104533Z"
    }
   },
   "outputs": [
    {
     "name": "stdout",
     "output_type": "stream",
     "text": [
      "Training Accuracy :  1.0\n",
      "Testing Accuracy :  0.9767116907312529\n"
     ]
    }
   ],
   "source": [
    "# Training & Testing accuracy\n",
    "print('Training Accuracy : ', dt.score(xtrain,ytrain))\n",
    "print('Testing Accuracy : ', dt.score(xtest,ytest))"
   ]
  },
  {
   "cell_type": "code",
   "execution_count": 30,
   "id": "ba96cbcf",
   "metadata": {
    "ExecuteTime": {
     "end_time": "2023-04-05T08:38:44.144826Z",
     "start_time": "2023-04-05T08:38:44.123798Z"
    }
   },
   "outputs": [
    {
     "name": "stdout",
     "output_type": "stream",
     "text": [
      "              precision    recall  f1-score   support\n",
      "\n",
      "           0       1.00      0.96      0.98      1068\n",
      "           1       0.96      1.00      0.98      1079\n",
      "\n",
      "    accuracy                           0.98      2147\n",
      "   macro avg       0.98      0.98      0.98      2147\n",
      "weighted avg       0.98      0.98      0.98      2147\n",
      "\n"
     ]
    }
   ],
   "source": [
    "# Showing the main classification metrics\n",
    "print(classification_report(ytest,dt_pred))"
   ]
  },
  {
   "cell_type": "code",
   "execution_count": 31,
   "id": "810c8f9d",
   "metadata": {
    "ExecuteTime": {
     "end_time": "2023-04-05T08:38:44.323087Z",
     "start_time": "2023-04-05T08:38:44.144826Z"
    }
   },
   "outputs": [
    {
     "data": {
      "text/plain": [
       "Text(50.722222222222214, 0.5, 'Predicted Values')"
      ]
     },
     "execution_count": 31,
     "metadata": {},
     "output_type": "execute_result"
    },
    {
     "data": {
      "image/png": "[encoded data removed]",
      "text/plain": [
       "<Figure size 640x480 with 2 Axes>"
      ]
     },
     "metadata": {},
     "output_type": "display_data"
    }
   ],
   "source": [
    "# Compute confusion matrix to evaluate the accuracy of a classification.\n",
    "\n",
    "sns.heatmap(confusion_matrix(ytest,dt_pred), annot=True)\n",
    "plt.xlabel('Actual Values')\n",
    "plt.ylabel('Predicted Values')"
   ]
  },
  {
   "cell_type": "code",
   "execution_count": 32,
   "id": "56d05ca6",
   "metadata": {
    "ExecuteTime": {
     "end_time": "2023-04-05T08:38:44.339488Z",
     "start_time": "2023-04-05T08:38:44.326091Z"
    }
   },
   "outputs": [
    {
     "data": {
      "text/plain": [
       "0.9767116907312529"
      ]
     },
     "execution_count": 32,
     "metadata": {},
     "output_type": "execute_result"
    }
   ],
   "source": [
    "# Accuracy classification score.\n",
    "accuracy_score(ytest,dt_pred)"
   ]
  },
  {
   "cell_type": "code",
   "execution_count": 33,
   "id": "80c3f967",
   "metadata": {
    "ExecuteTime": {
     "end_time": "2023-04-05T08:38:44.367914Z",
     "start_time": "2023-04-05T08:38:44.342946Z"
    }
   },
   "outputs": [
    {
     "data": {
      "text/html": [
       "<div>\n",
       "<style scoped>\n",
       "    .dataframe tbody tr th:only-of-type {\n",
       "        vertical-align: middle;\n",
       "    }\n",
       "\n",
       "    .dataframe tbody tr th {\n",
       "        vertical-align: top;\n",
       "    }\n",
       "\n",
       "    .dataframe thead th {\n",
       "        text-align: right;\n",
       "    }\n",
       "</style>\n",
       "<table border=\"1\" class=\"dataframe\">\n",
       "  <thead>\n",
       "    <tr style=\"text-align: right;\">\n",
       "      <th></th>\n",
       "      <th>Model</th>\n",
       "      <th>Accuracy</th>\n",
       "    </tr>\n",
       "  </thead>\n",
       "  <tbody>\n",
       "    <tr>\n",
       "      <th>0</th>\n",
       "      <td>Logistic Regrassion</td>\n",
       "      <td>0.736842</td>\n",
       "    </tr>\n",
       "    <tr>\n",
       "      <th>1</th>\n",
       "      <td>Random Forests</td>\n",
       "      <td>0.991150</td>\n",
       "    </tr>\n",
       "    <tr>\n",
       "      <th>2</th>\n",
       "      <td>GradientBoostingClassifier</td>\n",
       "      <td>0.908244</td>\n",
       "    </tr>\n",
       "    <tr>\n",
       "      <th>3</th>\n",
       "      <td>SVM</td>\n",
       "      <td>0.885887</td>\n",
       "    </tr>\n",
       "    <tr>\n",
       "      <th>4</th>\n",
       "      <td>DecisionTreeClassifier</td>\n",
       "      <td>0.976712</td>\n",
       "    </tr>\n",
       "  </tbody>\n",
       "</table>\n",
       "</div>"
      ],
      "text/plain": [
       "                        Model  Accuracy\n",
       "0         Logistic Regrassion  0.736842\n",
       "1              Random Forests  0.991150\n",
       "2  GradientBoostingClassifier  0.908244\n",
       "3                         SVM  0.885887\n",
       "4      DecisionTreeClassifier  0.976712"
      ]
     },
     "execution_count": 33,
     "metadata": {},
     "output_type": "execute_result"
    }
   ],
   "source": [
    "# Creating dataframe for created models & their accuracy\n",
    "model_acc = pd.DataFrame()\n",
    "\n",
    "# Column for all created models\n",
    "model_acc['Model'] = ['Logistic Regrassion','Random Forests','GradientBoostingClassifier','SVM','DecisionTreeClassifier']\n",
    "\n",
    "# Column for their accuracy\n",
    "model_acc['Accuracy'] = [accuracy_score(ytest,lg_pred), accuracy_score(ytest,rf_pred), accuracy_score(ytest,gb_pred), \n",
    "                        accuracy_score(ytest,svm_pred), accuracy_score(ytest,dt_pred)]\n",
    "\n",
    "# Show the Dataframe\n",
    "model_acc"
   ]
  },
  {
   "cell_type": "code",
   "execution_count": 34,
   "id": "10de074f",
   "metadata": {
    "ExecuteTime": {
     "end_time": "2023-04-05T08:38:44.494016Z",
     "start_time": "2023-04-05T08:38:44.367914Z"
    }
   },
   "outputs": [
    {
     "data": {
      "image/png": "[encoded data removed]",
      "text/plain": [
       "<Figure size 1000x500 with 1 Axes>"
      ]
     },
     "metadata": {},
     "output_type": "display_data"
    }
   ],
   "source": [
    "plt.figure(figsize=(10,5))\n",
    "sns.barplot(x=model_acc['Model'], y=model_acc['Accuracy'], data=model_acc, width=0.5)\n",
    "plt.tight_layout()\n",
    "plt.show()"
   ]
  },
  {
   "cell_type": "markdown",
   "id": "70e6ccec",
   "metadata": {},
   "source": [
    "### `Random Forests Classifier` algorithm gives high accuracy than other algorithms.\n",
    "- **Performing `KFold cross-validation` & hyperparameter tunning on `Random Forests Classifier` algorithm.**"
   ]
  },
  {
   "cell_type": "code",
   "execution_count": 35,
   "id": "d3eac6ca",
   "metadata": {
    "ExecuteTime": {
     "end_time": "2023-04-05T08:38:44.509134Z",
     "start_time": "2023-04-05T08:38:44.495255Z"
    }
   },
   "outputs": [
    {
     "name": "stdout",
     "output_type": "stream",
     "text": [
      "              precision    recall  f1-score   support\n",
      "\n",
      "           0       1.00      0.98      0.99      1068\n",
      "           1       0.98      1.00      0.99      1079\n",
      "\n",
      "    accuracy                           0.99      2147\n",
      "   macro avg       0.99      0.99      0.99      2147\n",
      "weighted avg       0.99      0.99      0.99      2147\n",
      "\n",
      "AUC-ROC Score: 0.9911144144425585\n"
     ]
    }
   ],
   "source": [
    "# Evaluate the model's performance\n",
    "print(classification_report(ytest, rf_pred))\n",
    "print(\"AUC-ROC Score:\", roc_auc_score(ytest, rf_pred))"
   ]
  },
  {
   "cell_type": "code",
   "execution_count": 36,
   "id": "efd28fb4",
   "metadata": {
    "ExecuteTime": {
     "end_time": "2023-04-05T08:38:47.657945Z",
     "start_time": "2023-04-05T08:38:44.509650Z"
    }
   },
   "outputs": [
    {
     "name": "stdout",
     "output_type": "stream",
     "text": [
      "KFold Cross-validation scores : [0.99359721 0.98893419 0.99242865 0.99009901 0.99126383]\n",
      "\n",
      "KFold Cross-validation Accuracy Score : 99.13%\n"
     ]
    }
   ],
   "source": [
    "# Performing k-fold cross-validation to check the model's generalization performance\n",
    "kfold = KFold(n_splits=5, random_state=1, shuffle=True)\n",
    "cv_scores = cross_val_score(rf, x, y, cv=kfold)\n",
    "\n",
    "print(\"KFold Cross-validation scores :\", cv_scores)\n",
    "print(\"\\nKFold Cross-validation Accuracy Score : {:.2f}%\".format(cv_scores.mean() * 100))"
   ]
  },
  {
   "cell_type": "code",
   "execution_count": 37,
   "id": "67aedae2",
   "metadata": {
    "ExecuteTime": {
     "end_time": "2023-04-05T08:44:57.908891Z",
     "start_time": "2023-04-05T08:38:47.660925Z"
    }
   },
   "outputs": [
    {
     "name": "stdout",
     "output_type": "stream",
     "text": [
      "Best hyperparameters : {'criterion': 'gini', 'max_depth': 15, 'min_samples_split': 2, 'n_estimators': 500}\n"
     ]
    }
   ],
   "source": [
    "# Tune hyperparameters using grid search\n",
    "param_grid = {'n_estimators': [100, 300, 500],\n",
    "              'criterion' : [\"gini\", \"entropy\"],\n",
    "              'max_depth': [5, 10, 15],\n",
    "              'min_samples_split': [2, 5, 10]}\n",
    "\n",
    "# Exhaustive search over specified parameter values for an estimator.\n",
    "grid = GridSearchCV(rf, param_grid = param_grid)\n",
    "\n",
    "# Fitting data into grid\n",
    "grid.fit(xtrain, ytrain)\n",
    "\n",
    "# Print the best hyperparameters\n",
    "print(\"Best hyperparameters :\", grid.best_params_)"
   ]
  },
  {
   "cell_type": "code",
   "execution_count": 38,
   "id": "583ee755",
   "metadata": {
    "ExecuteTime": {
     "end_time": "2023-04-05T08:45:01.556055Z",
     "start_time": "2023-04-05T08:44:57.908891Z"
    }
   },
   "outputs": [
    {
     "name": "stdout",
     "output_type": "stream",
     "text": [
      "Best model performance :\n",
      "\n",
      "AUC-ROC Score : 0.9906605679416021\n",
      "              precision    recall  f1-score   support\n",
      "\n",
      "           0       1.00      0.99      0.99      1068\n",
      "           1       0.99      1.00      0.99      1079\n",
      "\n",
      "    accuracy                           0.99      2147\n",
      "   macro avg       0.99      0.99      0.99      2147\n",
      "weighted avg       0.99      0.99      0.99      2147\n",
      "\n"
     ]
    }
   ],
   "source": [
    "# Fitting the model with the best hyperparameters & evaluate performance\n",
    "model = RandomForestClassifier(**grid.best_params_)\n",
    "\n",
    "# Fitting data into tunned model\n",
    "model.fit(xtrain, ytrain)\n",
    "\n",
    "# Prediction \n",
    "rf_pred_best = model.predict(xtest)\n",
    "\n",
    "print(\"Best model performance :\")\n",
    "print(\"\\nAUC-ROC Score :\", roc_auc_score(ytest, rf_pred_best))\n",
    "print(classification_report(ytest, rf_pred_best))"
   ]
  },
  {
   "cell_type": "code",
   "execution_count": 39,
   "id": "426c1fb4",
   "metadata": {
    "ExecuteTime": {
     "end_time": "2023-04-05T08:45:01.566178Z",
     "start_time": "2023-04-05T08:45:01.556055Z"
    }
   },
   "outputs": [
    {
     "name": "stdout",
     "output_type": "stream",
     "text": [
      "Accuracy : 99.07%\n"
     ]
    }
   ],
   "source": [
    "# Calculating accuracy score for tunned random forests model\n",
    "acc = accuracy_score(ytest, rf_pred_best)\n",
    "\n",
    "# Print accuracy as a percentage\n",
    "print(\"Accuracy : {:.2f}%\".format(acc * 100))"
   ]
  },
  {
   "cell_type": "code",
   "execution_count": 40,
   "id": "af15060e",
   "metadata": {
    "ExecuteTime": {
     "end_time": "2023-04-05T08:45:01.771533Z",
     "start_time": "2023-04-05T08:45:01.568802Z"
    }
   },
   "outputs": [
    {
     "data": {
      "image/png": "[encoded data removed]",
      "text/plain": [
       "<Figure size 640x480 with 1 Axes>"
      ]
     },
     "metadata": {},
     "output_type": "display_data"
    }
   ],
   "source": [
    "# The true labels in ytest & predicted probabilities in rf_pred_best\n",
    "\n",
    "'''The roc_curve function is used to compute the True Positive Rate (TPR) & False Positive Rate (FPR)\n",
    "at various probability thresholds. These values are stored in tpr, fpr & thresholds.'''\n",
    "\n",
    "fpr, tpr, thresholds = roc_curve(ytest, rf_pred_best) # Computing Receiver Operating Characteristic (ROC)\n",
    "roc_auc = auc(fpr, tpr) # Computing Area Under the Curve (AUC)\n",
    "\n",
    "# Plotting the ROC curve\n",
    "plt.plot(fpr, tpr, color='blue', label='ROC Curve (%0.2f)' % roc_auc)\n",
    "plt.plot([0, 1], [0, 1], color='red', linestyle='--')\n",
    "plt.xlabel('False Positive Rate')\n",
    "plt.ylabel('True Positive Rate')\n",
    "plt.title('Receiver Operating Characteristic (ROC) Curve')\n",
    "plt.legend(loc=\"lower right\")\n",
    "plt.show()"
   ]
  },
  {
   "cell_type": "markdown",
   "id": "fee5d09b",
   "metadata": {},
   "source": [
    "- ***ROC curve shows a perfect classifier, it means that the `Random Forest Classifier` model is able to perfectly distinguish between the positive & negative classes.***"
   ]
  },
  {
   "cell_type": "markdown",
   "id": "ef7ee0f7",
   "metadata": {},
   "source": [
    "# Pipeline :"
   ]
  },
  {
   "cell_type": "code",
   "execution_count": 41,
   "id": "ba025aab",
   "metadata": {
    "ExecuteTime": {
     "end_time": "2023-04-05T08:45:01.784092Z",
     "start_time": "2023-04-05T08:45:01.772239Z"
    }
   },
   "outputs": [],
   "source": [
    "from sklearn.compose import ColumnTransformer"
   ]
  },
  {
   "cell_type": "code",
   "execution_count": 42,
   "id": "901e10d8",
   "metadata": {
    "ExecuteTime": {
     "end_time": "2023-04-05T08:45:01.800589Z",
     "start_time": "2023-04-05T08:45:01.787826Z"
    }
   },
   "outputs": [],
   "source": [
    "# Creating one transformer for StandardScaler()\n",
    "transformer = ColumnTransformer(transformers=[\n",
    "    ('trf1', StandardScaler(),[0,8])\n",
    "], remainder='passthrough')"
   ]
  },
  {
   "cell_type": "code",
   "execution_count": 43,
   "id": "7f2cbcf2",
   "metadata": {
    "ExecuteTime": {
     "end_time": "2023-04-05T08:45:01.819306Z",
     "start_time": "2023-04-05T08:45:01.800589Z"
    }
   },
   "outputs": [],
   "source": [
    "# Creating pipeline\n",
    "pipe = Pipeline(steps=[('transformer', transformer),\n",
    "                        ('model', model)])"
   ]
  },
  {
   "cell_type": "code",
   "execution_count": 44,
   "id": "262f1b91",
   "metadata": {
    "ExecuteTime": {
     "end_time": "2023-04-05T08:45:05.275563Z",
     "start_time": "2023-04-05T08:45:01.819754Z"
    }
   },
   "outputs": [
    {
     "data": {
      "text/html": [
       "<style>#sk-7139f6e5-1b4d-4e7e-8a4a-c896c0ae833a {color: black;background-color: white;}#sk-7139f6e5-1b4d-4e7e-8a4a-c896c0ae833a pre{padding: 0;}#sk-7139f6e5-1b4d-4e7e-8a4a-c896c0ae833a div.sk-toggleable {background-color: white;}#sk-7139f6e5-1b4d-4e7e-8a4a-c896c0ae833a label.sk-toggleable__label {cursor: pointer;display: block;width: 100%;margin-bottom: 0;padding: 0.3em;box-sizing: border-box;text-align: center;}#sk-7139f6e5-1b4d-4e7e-8a4a-c896c0ae833a label.sk-toggleable__label-arrow:before {content: \"▸\";float: left;margin-right: 0.25em;color: #696969;}#sk-7139f6e5-1b4d-4e7e-8a4a-c896c0ae833a label.sk-toggleable__label-arrow:hover:before {color: black;}#sk-7139f6e5-1b4d-4e7e-8a4a-c896c0ae833a div.sk-estimator:hover label.sk-toggleable__label-arrow:before {color: black;}#sk-7139f6e5-1b4d-4e7e-8a4a-c896c0ae833a div.sk-toggleable__content {max-height: 0;max-width: 0;overflow: hidden;text-align: left;background-color: #f0f8ff;}#sk-7139f6e5-1b4d-4e7e-8a4a-c896c0ae833a div.sk-toggleable__content pre {margin: 0.2em;color: black;border-radius: 0.25em;background-color: #f0f8ff;}#sk-7139f6e5-1b4d-4e7e-8a4a-c896c0ae833a input.sk-toggleable__control:checked~div.sk-toggleable__content {max-height: 200px;max-width: 100%;overflow: auto;}#sk-7139f6e5-1b4d-4e7e-8a4a-c896c0ae833a input.sk-toggleable__control:checked~label.sk-toggleable__label-arrow:before {content: \"▾\";}#sk-7139f6e5-1b4d-4e7e-8a4a-c896c0ae833a div.sk-estimator input.sk-toggleable__control:checked~label.sk-toggleable__label {background-color: #d4ebff;}#sk-7139f6e5-1b4d-4e7e-8a4a-c896c0ae833a div.sk-label input.sk-toggleable__control:checked~label.sk-toggleable__label {background-color: #d4ebff;}#sk-7139f6e5-1b4d-4e7e-8a4a-c896c0ae833a input.sk-hidden--visually {border: 0;clip: rect(1px 1px 1px 1px);clip: rect(1px, 1px, 1px, 1px);height: 1px;margin: -1px;overflow: hidden;padding: 0;position: absolute;width: 1px;}#sk-7139f6e5-1b4d-4e7e-8a4a-c896c0ae833a div.sk-estimator {font-family: monospace;background-color: #f0f8ff;border: 1px dotted black;border-radius: 0.25em;box-sizing: border-box;margin-bottom: 0.5em;}#sk-7139f6e5-1b4d-4e7e-8a4a-c896c0ae833a div.sk-estimator:hover {background-color: #d4ebff;}#sk-7139f6e5-1b4d-4e7e-8a4a-c896c0ae833a div.sk-parallel-item::after {content: \"\";width: 100%;border-bottom: 1px solid gray;flex-grow: 1;}#sk-7139f6e5-1b4d-4e7e-8a4a-c896c0ae833a div.sk-label:hover label.sk-toggleable__label {background-color: #d4ebff;}#sk-7139f6e5-1b4d-4e7e-8a4a-c896c0ae833a div.sk-serial::before {content: \"\";position: absolute;border-left: 1px solid gray;box-sizing: border-box;top: 2em;bottom: 0;left: 50%;}#sk-7139f6e5-1b4d-4e7e-8a4a-c896c0ae833a div.sk-serial {display: flex;flex-direction: column;align-items: center;background-color: white;padding-right: 0.2em;padding-left: 0.2em;}#sk-7139f6e5-1b4d-4e7e-8a4a-c896c0ae833a div.sk-item {z-index: 1;}#sk-7139f6e5-1b4d-4e7e-8a4a-c896c0ae833a div.sk-parallel {display: flex;align-items: stretch;justify-content: center;background-color: white;}#sk-7139f6e5-1b4d-4e7e-8a4a-c896c0ae833a div.sk-parallel::before {content: \"\";position: absolute;border-left: 1px solid gray;box-sizing: border-box;top: 2em;bottom: 0;left: 50%;}#sk-7139f6e5-1b4d-4e7e-8a4a-c896c0ae833a div.sk-parallel-item {display: flex;flex-direction: column;position: relative;background-color: white;}#sk-7139f6e5-1b4d-4e7e-8a4a-c896c0ae833a div.sk-parallel-item:first-child::after {align-self: flex-end;width: 50%;}#sk-7139f6e5-1b4d-4e7e-8a4a-c896c0ae833a div.sk-parallel-item:last-child::after {align-self: flex-start;width: 50%;}#sk-7139f6e5-1b4d-4e7e-8a4a-c896c0ae833a div.sk-parallel-item:only-child::after {width: 0;}#sk-7139f6e5-1b4d-4e7e-8a4a-c896c0ae833a div.sk-dashed-wrapped {border: 1px dashed gray;margin: 0 0.4em 0.5em 0.4em;box-sizing: border-box;padding-bottom: 0.4em;background-color: white;position: relative;}#sk-7139f6e5-1b4d-4e7e-8a4a-c896c0ae833a div.sk-label label {font-family: monospace;font-weight: bold;background-color: white;display: inline-block;line-height: 1.2em;}#sk-7139f6e5-1b4d-4e7e-8a4a-c896c0ae833a div.sk-label-container {position: relative;z-index: 2;text-align: center;}#sk-7139f6e5-1b4d-4e7e-8a4a-c896c0ae833a div.sk-container {/* jupyter's `normalize.less` sets `[hidden] { display: none; }` but bootstrap.min.css set `[hidden] { display: none !important; }` so we also need the `!important` here to be able to override the default hidden behavior on the sphinx rendered scikit-learn.org. See: https://github.com/scikit-learn/scikit-learn/issues/21755 */display: inline-block !important;position: relative;}#sk-7139f6e5-1b4d-4e7e-8a4a-c896c0ae833a div.sk-text-repr-fallback {display: none;}</style><div id=\"sk-7139f6e5-1b4d-4e7e-8a4a-c896c0ae833a\" class=\"sk-top-container\"><div class=\"sk-text-repr-fallback\"><pre>Pipeline(steps=[(&#x27;transformer&#x27;,\n",
       "                 ColumnTransformer(remainder=&#x27;passthrough&#x27;,\n",
       "                                   transformers=[(&#x27;trf1&#x27;, StandardScaler(),\n",
       "                                                  [0, 8])])),\n",
       "                (&#x27;model&#x27;,\n",
       "                 RandomForestClassifier(max_depth=15, n_estimators=500))])</pre><b>Please rerun this cell to show the HTML repr or trust the notebook.</b></div><div class=\"sk-container\" hidden><div class=\"sk-item sk-dashed-wrapped\"><div class=\"sk-label-container\"><div class=\"sk-label sk-toggleable\"><input class=\"sk-toggleable__control sk-hidden--visually\" id=\"1f25f973-adf5-4577-9f56-1d8598fc9d6e\" type=\"checkbox\" ><label for=\"1f25f973-adf5-4577-9f56-1d8598fc9d6e\" class=\"sk-toggleable__label sk-toggleable__label-arrow\">Pipeline</label><div class=\"sk-toggleable__content\"><pre>Pipeline(steps=[(&#x27;transformer&#x27;,\n",
       "                 ColumnTransformer(remainder=&#x27;passthrough&#x27;,\n",
       "                                   transformers=[(&#x27;trf1&#x27;, StandardScaler(),\n",
       "                                                  [0, 8])])),\n",
       "                (&#x27;model&#x27;,\n",
       "                 RandomForestClassifier(max_depth=15, n_estimators=500))])</pre></div></div></div><div class=\"sk-serial\"><div class=\"sk-item sk-dashed-wrapped\"><div class=\"sk-label-container\"><div class=\"sk-label sk-toggleable\"><input class=\"sk-toggleable__control sk-hidden--visually\" id=\"8fc24bbb-a52c-41d2-a580-bff7626e8071\" type=\"checkbox\" ><label for=\"8fc24bbb-a52c-41d2-a580-bff7626e8071\" class=\"sk-toggleable__label sk-toggleable__label-arrow\">transformer: ColumnTransformer</label><div class=\"sk-toggleable__content\"><pre>ColumnTransformer(remainder=&#x27;passthrough&#x27;,\n",
       "                  transformers=[(&#x27;trf1&#x27;, StandardScaler(), [0, 8])])</pre></div></div></div><div class=\"sk-parallel\"><div class=\"sk-parallel-item\"><div class=\"sk-item\"><div class=\"sk-label-container\"><div class=\"sk-label sk-toggleable\"><input class=\"sk-toggleable__control sk-hidden--visually\" id=\"5beb7303-7b1e-4a16-8f64-d8898b6190e9\" type=\"checkbox\" ><label for=\"5beb7303-7b1e-4a16-8f64-d8898b6190e9\" class=\"sk-toggleable__label sk-toggleable__label-arrow\">trf1</label><div class=\"sk-toggleable__content\"><pre>[0, 8]</pre></div></div></div><div class=\"sk-serial\"><div class=\"sk-item\"><div class=\"sk-estimator sk-toggleable\"><input class=\"sk-toggleable__control sk-hidden--visually\" id=\"c5b32d2a-c724-49a8-9130-5865854f4db2\" type=\"checkbox\" ><label for=\"c5b32d2a-c724-49a8-9130-5865854f4db2\" class=\"sk-toggleable__label sk-toggleable__label-arrow\">StandardScaler</label><div class=\"sk-toggleable__content\"><pre>StandardScaler()</pre></div></div></div></div></div></div><div class=\"sk-parallel-item\"><div class=\"sk-item\"><div class=\"sk-label-container\"><div class=\"sk-label sk-toggleable\"><input class=\"sk-toggleable__control sk-hidden--visually\" id=\"fdfe5fa6-8f13-4e9c-bb7a-69b5ad586f97\" type=\"checkbox\" ><label for=\"fdfe5fa6-8f13-4e9c-bb7a-69b5ad586f97\" class=\"sk-toggleable__label sk-toggleable__label-arrow\">remainder</label><div class=\"sk-toggleable__content\"><pre>[1, 2, 3, 4, 5, 6, 7]</pre></div></div></div><div class=\"sk-serial\"><div class=\"sk-item\"><div class=\"sk-estimator sk-toggleable\"><input class=\"sk-toggleable__control sk-hidden--visually\" id=\"c1050919-3962-42bf-a509-f21eb6002c4e\" type=\"checkbox\" ><label for=\"c1050919-3962-42bf-a509-f21eb6002c4e\" class=\"sk-toggleable__label sk-toggleable__label-arrow\">passthrough</label><div class=\"sk-toggleable__content\"><pre>passthrough</pre></div></div></div></div></div></div></div></div><div class=\"sk-item\"><div class=\"sk-estimator sk-toggleable\"><input class=\"sk-toggleable__control sk-hidden--visually\" id=\"f776e784-06d4-48c5-997a-e1df8df5aefe\" type=\"checkbox\" ><label for=\"f776e784-06d4-48c5-997a-e1df8df5aefe\" class=\"sk-toggleable__label sk-toggleable__label-arrow\">RandomForestClassifier</label><div class=\"sk-toggleable__content\"><pre>RandomForestClassifier(max_depth=15, n_estimators=500)</pre></div></div></div></div></div></div></div>"
      ],
      "text/plain": [
       "Pipeline(steps=[('transformer',\n",
       "                 ColumnTransformer(remainder='passthrough',\n",
       "                                   transformers=[('trf1', StandardScaler(),\n",
       "                                                  [0, 8])])),\n",
       "                ('model',\n",
       "                 RandomForestClassifier(max_depth=15, n_estimators=500))])"
      ]
     },
     "execution_count": 44,
     "metadata": {},
     "output_type": "execute_result"
    }
   ],
   "source": [
    "# Fitting pipeline on training data\n",
    "pipe.fit(xtrain,ytrain)"
   ]
  },
  {
   "cell_type": "code",
   "execution_count": 45,
   "id": "0e09a042",
   "metadata": {
    "ExecuteTime": {
     "end_time": "2023-04-05T08:45:05.467953Z",
     "start_time": "2023-04-05T08:45:05.275563Z"
    }
   },
   "outputs": [],
   "source": [
    "# Prediction\n",
    "pipe_pred = pipe.predict(xtest)"
   ]
  },
  {
   "cell_type": "code",
   "execution_count": 46,
   "id": "0fd519d5",
   "metadata": {
    "ExecuteTime": {
     "end_time": "2023-04-05T08:45:05.483464Z",
     "start_time": "2023-04-05T08:45:05.467953Z"
    }
   },
   "outputs": [
    {
     "name": "stdout",
     "output_type": "stream",
     "text": [
      "              precision    recall  f1-score   support\n",
      "\n",
      "           0       0.99      0.99      0.99      1068\n",
      "           1       0.99      0.99      0.99      1079\n",
      "\n",
      "    accuracy                           0.99      2147\n",
      "   macro avg       0.99      0.99      0.99      2147\n",
      "weighted avg       0.99      0.99      0.99      2147\n",
      "\n"
     ]
    }
   ],
   "source": [
    "print(classification_report(ytest,pipe_pred))"
   ]
  },
  {
   "cell_type": "code",
   "execution_count": 47,
   "id": "d3893b2e",
   "metadata": {
    "ExecuteTime": {
     "end_time": "2023-04-05T08:45:05.496979Z",
     "start_time": "2023-04-05T08:45:05.486443Z"
    }
   },
   "outputs": [
    {
     "data": {
      "text/plain": [
       "0.9902189101071263"
      ]
     },
     "execution_count": 47,
     "metadata": {},
     "output_type": "execute_result"
    }
   ],
   "source": [
    "# Prediction accuracy\n",
    "accuracy_score(ytest,pipe_pred)"
   ]
  },
  {
   "cell_type": "code",
   "execution_count": 48,
   "id": "2127fdb9",
   "metadata": {
    "ExecuteTime": {
     "end_time": "2023-04-05T08:45:05.514687Z",
     "start_time": "2023-04-05T08:45:05.501108Z"
    }
   },
   "outputs": [
    {
     "data": {
      "text/plain": [
       "<bound method Pipeline.get_feature_names_out of Pipeline(steps=[('transformer',\n",
       "                 ColumnTransformer(remainder='passthrough',\n",
       "                                   transformers=[('trf1', StandardScaler(),\n",
       "                                                  [0, 8])])),\n",
       "                ('model',\n",
       "                 RandomForestClassifier(max_depth=15, n_estimators=500))])>"
      ]
     },
     "execution_count": 48,
     "metadata": {},
     "output_type": "execute_result"
    }
   ],
   "source": [
    "# Output feature names for transformation\n",
    "pipe.get_feature_names_out"
   ]
  },
  {
   "cell_type": "code",
   "execution_count": 49,
   "id": "2a507a8a",
   "metadata": {
    "ExecuteTime": {
     "end_time": "2023-04-05T08:45:05.525893Z",
     "start_time": "2023-04-05T08:45:05.517036Z"
    }
   },
   "outputs": [
    {
     "data": {
      "text/plain": [
       "{'transformer': ColumnTransformer(remainder='passthrough',\n",
       "                   transformers=[('trf1', StandardScaler(), [0, 8])]),\n",
       " 'model': RandomForestClassifier(max_depth=15, n_estimators=500)}"
      ]
     },
     "execution_count": 49,
     "metadata": {},
     "output_type": "execute_result"
    }
   ],
   "source": [
    "pipe.named_steps"
   ]
  },
  {
   "cell_type": "code",
   "execution_count": 50,
   "id": "d9bc3d22",
   "metadata": {
    "ExecuteTime": {
     "end_time": "2023-04-05T08:45:19.606536Z",
     "start_time": "2023-04-05T08:45:05.525893Z"
    }
   },
   "outputs": [
    {
     "data": {
      "text/plain": [
       "0.9824505204939987"
      ]
     },
     "execution_count": 50,
     "metadata": {},
     "output_type": "execute_result"
    }
   ],
   "source": [
    "cross_val_score(pipe,xtrain,ytrain,cv=5,scoring='accuracy').mean()"
   ]
  },
  {
   "cell_type": "code",
   "execution_count": null,
   "id": "c4886f6e",
   "metadata": {},
   "outputs": [],
   "source": []
  },
  {
   "cell_type": "markdown",
   "id": "f7eb8a8f",
   "metadata": {},
   "source": [
    "# Save the final model :"
   ]
  },
  {
   "cell_type": "code",
   "execution_count": 51,
   "id": "29033406",
   "metadata": {
    "ExecuteTime": {
     "end_time": "2023-04-05T08:45:19.622820Z",
     "start_time": "2023-04-05T08:45:19.608209Z"
    }
   },
   "outputs": [],
   "source": [
    "import pickle"
   ]
  },
  {
   "cell_type": "code",
   "execution_count": 54,
   "id": "ce1d278e",
   "metadata": {
    "ExecuteTime": {
     "end_time": "2023-04-05T08:45:50.426193Z",
     "start_time": "2023-04-05T08:45:50.322249Z"
    }
   },
   "outputs": [],
   "source": [
    "pickle.dump(pipe, open('Telecom_Churn_Prediction.pkl', 'wb'))"
   ]
  },
  {
   "cell_type": "code",
   "execution_count": null,
   "id": "4b7bef19",
   "metadata": {},
   "outputs": [],
   "source": []
  }
 ],
 "metadata": {
  "kernelspec": {
   "display_name": "Python 3 (ipykernel)",
   "language": "python",
   "name": "python3"
  },
  "language_info": {
   "codemirror_mode": {
    "name": "ipython",
    "version": 3
   },
   "file_extension": ".py",
   "mimetype": "text/x-python",
   "name": "python",
   "nbconvert_exporter": "python",
   "pygments_lexer": "ipython3",
   "version": "3.9.13"
  }
 },
 "nbformat": 4,
 "nbformat_minor": 5
}
