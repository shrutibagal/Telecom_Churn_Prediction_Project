{
 "cells": [
  {
   "cell_type": "code",
   "execution_count": 1,
   "id": "18163165",
   "metadata": {
    "ExecuteTime": {
     "end_time": "2023-04-07T10:50:55.440828Z",
     "start_time": "2023-04-07T10:50:53.261857Z"
    }
   },
   "outputs": [],
   "source": [
    "# Importing all usefull libraries\n",
    "\n",
    "import warnings\n",
    "warnings.filterwarnings('ignore')\n",
    "\n",
    "import pandas as pd\n",
    "import numpy as np\n",
    "import seaborn as sns\n",
    "import matplotlib.pyplot as plt\n",
    "%matplotlib inline\n",
    "\n",
    "from sklearn.model_selection import train_test_split, cross_val_score\n",
    "from sklearn.compose import ColumnTransformer\n",
    "from sklearn.impute import SimpleImputer\n",
    "from sklearn.preprocessing import OneHotEncoder, MinMaxScaler\n",
    "from sklearn.pipeline import Pipeline\n",
    "from sklearn.ensemble import RandomForestClassifier\n",
    "from sklearn.metrics import classification_report, accuracy_score\n",
    "from imblearn.over_sampling import RandomOverSampler\n",
    "\n",
    "from sklearn import set_config\n",
    "set_config(display='diagram')"
   ]
  },
  {
   "cell_type": "code",
   "execution_count": 2,
   "id": "ec75d356",
   "metadata": {
    "ExecuteTime": {
     "end_time": "2023-04-07T10:50:55.490142Z",
     "start_time": "2023-04-07T10:50:55.440828Z"
    }
   },
   "outputs": [
    {
     "data": {
      "text/html": [
       "<div>\n",
       "<style scoped>\n",
       "    .dataframe tbody tr th:only-of-type {\n",
       "        vertical-align: middle;\n",
       "    }\n",
       "\n",
       "    .dataframe tbody tr th {\n",
       "        vertical-align: top;\n",
       "    }\n",
       "\n",
       "    .dataframe thead th {\n",
       "        text-align: right;\n",
       "    }\n",
       "</style>\n",
       "<table border=\"1\" class=\"dataframe\">\n",
       "  <thead>\n",
       "    <tr style=\"text-align: right;\">\n",
       "      <th></th>\n",
       "      <th>account_length</th>\n",
       "      <th>voice_messages</th>\n",
       "      <th>intl_plan</th>\n",
       "      <th>intl_mins</th>\n",
       "      <th>intl_calls</th>\n",
       "      <th>day_mins</th>\n",
       "      <th>eve_charge</th>\n",
       "      <th>night_mins</th>\n",
       "      <th>customer_calls</th>\n",
       "      <th>churn</th>\n",
       "    </tr>\n",
       "  </thead>\n",
       "  <tbody>\n",
       "    <tr>\n",
       "      <th>0</th>\n",
       "      <td>128</td>\n",
       "      <td>25.0</td>\n",
       "      <td>0</td>\n",
       "      <td>10.0</td>\n",
       "      <td>3.0</td>\n",
       "      <td>265.1</td>\n",
       "      <td>16.78</td>\n",
       "      <td>244.7</td>\n",
       "      <td>1.0</td>\n",
       "      <td>0</td>\n",
       "    </tr>\n",
       "    <tr>\n",
       "      <th>1</th>\n",
       "      <td>107</td>\n",
       "      <td>26.0</td>\n",
       "      <td>0</td>\n",
       "      <td>13.7</td>\n",
       "      <td>3.0</td>\n",
       "      <td>161.6</td>\n",
       "      <td>16.62</td>\n",
       "      <td>254.4</td>\n",
       "      <td>1.0</td>\n",
       "      <td>0</td>\n",
       "    </tr>\n",
       "    <tr>\n",
       "      <th>2</th>\n",
       "      <td>137</td>\n",
       "      <td>0.0</td>\n",
       "      <td>0</td>\n",
       "      <td>12.2</td>\n",
       "      <td>5.0</td>\n",
       "      <td>243.4</td>\n",
       "      <td>10.30</td>\n",
       "      <td>162.6</td>\n",
       "      <td>0.0</td>\n",
       "      <td>0</td>\n",
       "    </tr>\n",
       "    <tr>\n",
       "      <th>3</th>\n",
       "      <td>84</td>\n",
       "      <td>0.0</td>\n",
       "      <td>1</td>\n",
       "      <td>6.6</td>\n",
       "      <td>7.0</td>\n",
       "      <td>299.4</td>\n",
       "      <td>5.50</td>\n",
       "      <td>196.9</td>\n",
       "      <td>2.0</td>\n",
       "      <td>0</td>\n",
       "    </tr>\n",
       "    <tr>\n",
       "      <th>4</th>\n",
       "      <td>75</td>\n",
       "      <td>0.0</td>\n",
       "      <td>1</td>\n",
       "      <td>10.1</td>\n",
       "      <td>3.0</td>\n",
       "      <td>166.7</td>\n",
       "      <td>12.61</td>\n",
       "      <td>186.9</td>\n",
       "      <td>3.0</td>\n",
       "      <td>0</td>\n",
       "    </tr>\n",
       "  </tbody>\n",
       "</table>\n",
       "</div>"
      ],
      "text/plain": [
       "   account_length  voice_messages  intl_plan  intl_mins  intl_calls  day_mins  \\\n",
       "0             128            25.0          0       10.0         3.0     265.1   \n",
       "1             107            26.0          0       13.7         3.0     161.6   \n",
       "2             137             0.0          0       12.2         5.0     243.4   \n",
       "3              84             0.0          1        6.6         7.0     299.4   \n",
       "4              75             0.0          1       10.1         3.0     166.7   \n",
       "\n",
       "   eve_charge  night_mins  customer_calls  churn  \n",
       "0       16.78       244.7             1.0      0  \n",
       "1       16.62       254.4             1.0      0  \n",
       "2       10.30       162.6             0.0      0  \n",
       "3        5.50       196.9             2.0      0  \n",
       "4       12.61       186.9             3.0      0  "
      ]
     },
     "execution_count": 2,
     "metadata": {},
     "output_type": "execute_result"
    }
   ],
   "source": [
    "# Loding dataset\n",
    "telecom = pd.read_csv('Churn_Model_Building_Data.csv')\n",
    "\n",
    "telecom.head()"
   ]
  },
  {
   "cell_type": "code",
   "execution_count": 3,
   "id": "6b71dee6",
   "metadata": {
    "ExecuteTime": {
     "end_time": "2023-04-07T10:50:55.506737Z",
     "start_time": "2023-04-07T10:50:55.490142Z"
    }
   },
   "outputs": [],
   "source": [
    "# Defining independent (x) & dependent (y) variables\n",
    "x = telecom.iloc[:,:-1]\n",
    "y = telecom['churn']"
   ]
  },
  {
   "cell_type": "code",
   "execution_count": 4,
   "id": "b6a2dae1",
   "metadata": {
    "ExecuteTime": {
     "end_time": "2023-04-07T10:50:55.522742Z",
     "start_time": "2023-04-07T10:50:55.506737Z"
    }
   },
   "outputs": [
    {
     "data": {
      "text/plain": [
       "0    4293\n",
       "1     707\n",
       "Name: churn, dtype: int64"
      ]
     },
     "execution_count": 4,
     "metadata": {},
     "output_type": "execute_result"
    }
   ],
   "source": [
    "# Target column value count\n",
    "y.value_counts()"
   ]
  },
  {
   "cell_type": "markdown",
   "id": "f71d040c",
   "metadata": {},
   "source": [
    "## Balncing the data : "
   ]
  },
  {
   "cell_type": "code",
   "execution_count": 5,
   "id": "5eb2d107",
   "metadata": {
    "ExecuteTime": {
     "end_time": "2023-04-07T10:50:55.538741Z",
     "start_time": "2023-04-07T10:50:55.522742Z"
    }
   },
   "outputs": [
    {
     "name": "stdout",
     "output_type": "stream",
     "text": [
      "0    4293\n",
      "1    4293\n",
      "Name: churn, dtype: int64\n"
     ]
    }
   ],
   "source": [
    "# Creating a RandomOverSampler object\n",
    "ros = RandomOverSampler()\n",
    "\n",
    "# Fitting the RandomOverSampler to the independent & dependent features & perform the oversampling\n",
    "x, y = ros.fit_resample(x, y)\n",
    "\n",
    "# Verify that the dataset is balanced\n",
    "print(y.value_counts())"
   ]
  },
  {
   "cell_type": "code",
   "execution_count": 6,
   "id": "d47c4ed2",
   "metadata": {
    "ExecuteTime": {
     "end_time": "2023-04-07T10:50:55.554746Z",
     "start_time": "2023-04-07T10:50:55.538741Z"
    }
   },
   "outputs": [],
   "source": [
    "# Splitting data into train & test sets\n",
    "xtrain,xtest,ytrain,ytest = train_test_split(x,y,test_size=0.25,random_state=1)"
   ]
  },
  {
   "cell_type": "code",
   "execution_count": 7,
   "id": "27d23070",
   "metadata": {
    "ExecuteTime": {
     "end_time": "2023-04-07T10:50:55.570740Z",
     "start_time": "2023-04-07T10:50:55.554746Z"
    }
   },
   "outputs": [],
   "source": [
    "# Creating transformers for pipeline\n",
    "transformer = ColumnTransformer(transformers=[\n",
    "    ('Impute', SimpleImputer(strategy='mean'), [1, 7]),\n",
    "    ('Encode', OneHotEncoder(sparse=False, handle_unknown='ignore'), [3, 4]),\n",
    "    ('Scale', MinMaxScaler(), slice(0, 9))\n",
    "], remainder='passthrough')"
   ]
  },
  {
   "cell_type": "code",
   "execution_count": 8,
   "id": "c1e0a6dc",
   "metadata": {
    "ExecuteTime": {
     "end_time": "2023-04-07T10:50:55.586740Z",
     "start_time": "2023-04-07T10:50:55.570740Z"
    }
   },
   "outputs": [],
   "source": [
    "# Creating pipeline\n",
    "model = Pipeline(steps=[\n",
    "    ('transformer', transformer),\n",
    "    ('model', RandomForestClassifier())\n",
    "])"
   ]
  },
  {
   "cell_type": "code",
   "execution_count": 9,
   "id": "14fb0265",
   "metadata": {
    "ExecuteTime": {
     "end_time": "2023-04-07T10:50:56.552521Z",
     "start_time": "2023-04-07T10:50:55.586740Z"
    }
   },
   "outputs": [
    {
     "data": {
      "text/html": [
       "<style>#sk-2a2ff729-60e9-4956-a585-0d0bbc204ef9 {color: black;background-color: white;}#sk-2a2ff729-60e9-4956-a585-0d0bbc204ef9 pre{padding: 0;}#sk-2a2ff729-60e9-4956-a585-0d0bbc204ef9 div.sk-toggleable {background-color: white;}#sk-2a2ff729-60e9-4956-a585-0d0bbc204ef9 label.sk-toggleable__label {cursor: pointer;display: block;width: 100%;margin-bottom: 0;padding: 0.3em;box-sizing: border-box;text-align: center;}#sk-2a2ff729-60e9-4956-a585-0d0bbc204ef9 label.sk-toggleable__label-arrow:before {content: \"▸\";float: left;margin-right: 0.25em;color: #696969;}#sk-2a2ff729-60e9-4956-a585-0d0bbc204ef9 label.sk-toggleable__label-arrow:hover:before {color: black;}#sk-2a2ff729-60e9-4956-a585-0d0bbc204ef9 div.sk-estimator:hover label.sk-toggleable__label-arrow:before {color: black;}#sk-2a2ff729-60e9-4956-a585-0d0bbc204ef9 div.sk-toggleable__content {max-height: 0;max-width: 0;overflow: hidden;text-align: left;background-color: #f0f8ff;}#sk-2a2ff729-60e9-4956-a585-0d0bbc204ef9 div.sk-toggleable__content pre {margin: 0.2em;color: black;border-radius: 0.25em;background-color: #f0f8ff;}#sk-2a2ff729-60e9-4956-a585-0d0bbc204ef9 input.sk-toggleable__control:checked~div.sk-toggleable__content {max-height: 200px;max-width: 100%;overflow: auto;}#sk-2a2ff729-60e9-4956-a585-0d0bbc204ef9 input.sk-toggleable__control:checked~label.sk-toggleable__label-arrow:before {content: \"▾\";}#sk-2a2ff729-60e9-4956-a585-0d0bbc204ef9 div.sk-estimator input.sk-toggleable__control:checked~label.sk-toggleable__label {background-color: #d4ebff;}#sk-2a2ff729-60e9-4956-a585-0d0bbc204ef9 div.sk-label input.sk-toggleable__control:checked~label.sk-toggleable__label {background-color: #d4ebff;}#sk-2a2ff729-60e9-4956-a585-0d0bbc204ef9 input.sk-hidden--visually {border: 0;clip: rect(1px 1px 1px 1px);clip: rect(1px, 1px, 1px, 1px);height: 1px;margin: -1px;overflow: hidden;padding: 0;position: absolute;width: 1px;}#sk-2a2ff729-60e9-4956-a585-0d0bbc204ef9 div.sk-estimator {font-family: monospace;background-color: #f0f8ff;border: 1px dotted black;border-radius: 0.25em;box-sizing: border-box;margin-bottom: 0.5em;}#sk-2a2ff729-60e9-4956-a585-0d0bbc204ef9 div.sk-estimator:hover {background-color: #d4ebff;}#sk-2a2ff729-60e9-4956-a585-0d0bbc204ef9 div.sk-parallel-item::after {content: \"\";width: 100%;border-bottom: 1px solid gray;flex-grow: 1;}#sk-2a2ff729-60e9-4956-a585-0d0bbc204ef9 div.sk-label:hover label.sk-toggleable__label {background-color: #d4ebff;}#sk-2a2ff729-60e9-4956-a585-0d0bbc204ef9 div.sk-serial::before {content: \"\";position: absolute;border-left: 1px solid gray;box-sizing: border-box;top: 2em;bottom: 0;left: 50%;}#sk-2a2ff729-60e9-4956-a585-0d0bbc204ef9 div.sk-serial {display: flex;flex-direction: column;align-items: center;background-color: white;padding-right: 0.2em;padding-left: 0.2em;}#sk-2a2ff729-60e9-4956-a585-0d0bbc204ef9 div.sk-item {z-index: 1;}#sk-2a2ff729-60e9-4956-a585-0d0bbc204ef9 div.sk-parallel {display: flex;align-items: stretch;justify-content: center;background-color: white;}#sk-2a2ff729-60e9-4956-a585-0d0bbc204ef9 div.sk-parallel::before {content: \"\";position: absolute;border-left: 1px solid gray;box-sizing: border-box;top: 2em;bottom: 0;left: 50%;}#sk-2a2ff729-60e9-4956-a585-0d0bbc204ef9 div.sk-parallel-item {display: flex;flex-direction: column;position: relative;background-color: white;}#sk-2a2ff729-60e9-4956-a585-0d0bbc204ef9 div.sk-parallel-item:first-child::after {align-self: flex-end;width: 50%;}#sk-2a2ff729-60e9-4956-a585-0d0bbc204ef9 div.sk-parallel-item:last-child::after {align-self: flex-start;width: 50%;}#sk-2a2ff729-60e9-4956-a585-0d0bbc204ef9 div.sk-parallel-item:only-child::after {width: 0;}#sk-2a2ff729-60e9-4956-a585-0d0bbc204ef9 div.sk-dashed-wrapped {border: 1px dashed gray;margin: 0 0.4em 0.5em 0.4em;box-sizing: border-box;padding-bottom: 0.4em;background-color: white;position: relative;}#sk-2a2ff729-60e9-4956-a585-0d0bbc204ef9 div.sk-label label {font-family: monospace;font-weight: bold;background-color: white;display: inline-block;line-height: 1.2em;}#sk-2a2ff729-60e9-4956-a585-0d0bbc204ef9 div.sk-label-container {position: relative;z-index: 2;text-align: center;}#sk-2a2ff729-60e9-4956-a585-0d0bbc204ef9 div.sk-container {/* jupyter's `normalize.less` sets `[hidden] { display: none; }` but bootstrap.min.css set `[hidden] { display: none !important; }` so we also need the `!important` here to be able to override the default hidden behavior on the sphinx rendered scikit-learn.org. See: https://github.com/scikit-learn/scikit-learn/issues/21755 */display: inline-block !important;position: relative;}#sk-2a2ff729-60e9-4956-a585-0d0bbc204ef9 div.sk-text-repr-fallback {display: none;}</style><div id=\"sk-2a2ff729-60e9-4956-a585-0d0bbc204ef9\" class=\"sk-top-container\"><div class=\"sk-text-repr-fallback\"><pre>Pipeline(steps=[(&#x27;transformer&#x27;,\n",
       "                 ColumnTransformer(remainder=&#x27;passthrough&#x27;,\n",
       "                                   transformers=[(&#x27;Impute&#x27;, SimpleImputer(),\n",
       "                                                  [1, 7]),\n",
       "                                                 (&#x27;Encode&#x27;,\n",
       "                                                  OneHotEncoder(handle_unknown=&#x27;ignore&#x27;,\n",
       "                                                                sparse=False),\n",
       "                                                  [3, 4]),\n",
       "                                                 (&#x27;Scale&#x27;, MinMaxScaler(),\n",
       "                                                  slice(0, 9, None))])),\n",
       "                (&#x27;model&#x27;, RandomForestClassifier())])</pre><b>Please rerun this cell to show the HTML repr or trust the notebook.</b></div><div class=\"sk-container\" hidden><div class=\"sk-item sk-dashed-wrapped\"><div class=\"sk-label-container\"><div class=\"sk-label sk-toggleable\"><input class=\"sk-toggleable__control sk-hidden--visually\" id=\"e29ddfd3-4ae5-4863-ad27-7efc607830a1\" type=\"checkbox\" ><label for=\"e29ddfd3-4ae5-4863-ad27-7efc607830a1\" class=\"sk-toggleable__label sk-toggleable__label-arrow\">Pipeline</label><div class=\"sk-toggleable__content\"><pre>Pipeline(steps=[(&#x27;transformer&#x27;,\n",
       "                 ColumnTransformer(remainder=&#x27;passthrough&#x27;,\n",
       "                                   transformers=[(&#x27;Impute&#x27;, SimpleImputer(),\n",
       "                                                  [1, 7]),\n",
       "                                                 (&#x27;Encode&#x27;,\n",
       "                                                  OneHotEncoder(handle_unknown=&#x27;ignore&#x27;,\n",
       "                                                                sparse=False),\n",
       "                                                  [3, 4]),\n",
       "                                                 (&#x27;Scale&#x27;, MinMaxScaler(),\n",
       "                                                  slice(0, 9, None))])),\n",
       "                (&#x27;model&#x27;, RandomForestClassifier())])</pre></div></div></div><div class=\"sk-serial\"><div class=\"sk-item sk-dashed-wrapped\"><div class=\"sk-label-container\"><div class=\"sk-label sk-toggleable\"><input class=\"sk-toggleable__control sk-hidden--visually\" id=\"3fa02a84-f948-44a9-bbca-0a55398e2fb3\" type=\"checkbox\" ><label for=\"3fa02a84-f948-44a9-bbca-0a55398e2fb3\" class=\"sk-toggleable__label sk-toggleable__label-arrow\">transformer: ColumnTransformer</label><div class=\"sk-toggleable__content\"><pre>ColumnTransformer(remainder=&#x27;passthrough&#x27;,\n",
       "                  transformers=[(&#x27;Impute&#x27;, SimpleImputer(), [1, 7]),\n",
       "                                (&#x27;Encode&#x27;,\n",
       "                                 OneHotEncoder(handle_unknown=&#x27;ignore&#x27;,\n",
       "                                               sparse=False),\n",
       "                                 [3, 4]),\n",
       "                                (&#x27;Scale&#x27;, MinMaxScaler(), slice(0, 9, None))])</pre></div></div></div><div class=\"sk-parallel\"><div class=\"sk-parallel-item\"><div class=\"sk-item\"><div class=\"sk-label-container\"><div class=\"sk-label sk-toggleable\"><input class=\"sk-toggleable__control sk-hidden--visually\" id=\"44f2ba39-87b0-4d4f-a8c8-294dc651dae7\" type=\"checkbox\" ><label for=\"44f2ba39-87b0-4d4f-a8c8-294dc651dae7\" class=\"sk-toggleable__label sk-toggleable__label-arrow\">Impute</label><div class=\"sk-toggleable__content\"><pre>[1, 7]</pre></div></div></div><div class=\"sk-serial\"><div class=\"sk-item\"><div class=\"sk-estimator sk-toggleable\"><input class=\"sk-toggleable__control sk-hidden--visually\" id=\"7b019fc3-3c51-4175-8699-d3a306c8e95b\" type=\"checkbox\" ><label for=\"7b019fc3-3c51-4175-8699-d3a306c8e95b\" class=\"sk-toggleable__label sk-toggleable__label-arrow\">SimpleImputer</label><div class=\"sk-toggleable__content\"><pre>SimpleImputer()</pre></div></div></div></div></div></div><div class=\"sk-parallel-item\"><div class=\"sk-item\"><div class=\"sk-label-container\"><div class=\"sk-label sk-toggleable\"><input class=\"sk-toggleable__control sk-hidden--visually\" id=\"4507b0a4-ce23-42ce-aa33-7a78884fab3b\" type=\"checkbox\" ><label for=\"4507b0a4-ce23-42ce-aa33-7a78884fab3b\" class=\"sk-toggleable__label sk-toggleable__label-arrow\">Encode</label><div class=\"sk-toggleable__content\"><pre>[3, 4]</pre></div></div></div><div class=\"sk-serial\"><div class=\"sk-item\"><div class=\"sk-estimator sk-toggleable\"><input class=\"sk-toggleable__control sk-hidden--visually\" id=\"135ccf17-de8d-4d14-8cab-378e05646498\" type=\"checkbox\" ><label for=\"135ccf17-de8d-4d14-8cab-378e05646498\" class=\"sk-toggleable__label sk-toggleable__label-arrow\">OneHotEncoder</label><div class=\"sk-toggleable__content\"><pre>OneHotEncoder(handle_unknown=&#x27;ignore&#x27;, sparse=False)</pre></div></div></div></div></div></div><div class=\"sk-parallel-item\"><div class=\"sk-item\"><div class=\"sk-label-container\"><div class=\"sk-label sk-toggleable\"><input class=\"sk-toggleable__control sk-hidden--visually\" id=\"e6014640-41c2-4001-afa1-20f831870b94\" type=\"checkbox\" ><label for=\"e6014640-41c2-4001-afa1-20f831870b94\" class=\"sk-toggleable__label sk-toggleable__label-arrow\">Scale</label><div class=\"sk-toggleable__content\"><pre>slice(0, 9, None)</pre></div></div></div><div class=\"sk-serial\"><div class=\"sk-item\"><div class=\"sk-estimator sk-toggleable\"><input class=\"sk-toggleable__control sk-hidden--visually\" id=\"bf002baf-b7ed-40f0-a918-63add08f1276\" type=\"checkbox\" ><label for=\"bf002baf-b7ed-40f0-a918-63add08f1276\" class=\"sk-toggleable__label sk-toggleable__label-arrow\">MinMaxScaler</label><div class=\"sk-toggleable__content\"><pre>MinMaxScaler()</pre></div></div></div></div></div></div><div class=\"sk-parallel-item\"><div class=\"sk-item\"><div class=\"sk-label-container\"><div class=\"sk-label sk-toggleable\"><input class=\"sk-toggleable__control sk-hidden--visually\" id=\"925008e5-d163-4293-8a84-cd39fbe426ff\" type=\"checkbox\" ><label for=\"925008e5-d163-4293-8a84-cd39fbe426ff\" class=\"sk-toggleable__label sk-toggleable__label-arrow\">remainder</label><div class=\"sk-toggleable__content\"><pre>[]</pre></div></div></div><div class=\"sk-serial\"><div class=\"sk-item\"><div class=\"sk-estimator sk-toggleable\"><input class=\"sk-toggleable__control sk-hidden--visually\" id=\"247180b1-38e4-4974-abb9-0716f546bcbb\" type=\"checkbox\" ><label for=\"247180b1-38e4-4974-abb9-0716f546bcbb\" class=\"sk-toggleable__label sk-toggleable__label-arrow\">passthrough</label><div class=\"sk-toggleable__content\"><pre>passthrough</pre></div></div></div></div></div></div></div></div><div class=\"sk-item\"><div class=\"sk-estimator sk-toggleable\"><input class=\"sk-toggleable__control sk-hidden--visually\" id=\"63822d4d-5672-4c74-b9cd-749133caf07e\" type=\"checkbox\" ><label for=\"63822d4d-5672-4c74-b9cd-749133caf07e\" class=\"sk-toggleable__label sk-toggleable__label-arrow\">RandomForestClassifier</label><div class=\"sk-toggleable__content\"><pre>RandomForestClassifier()</pre></div></div></div></div></div></div></div>"
      ],
      "text/plain": [
       "Pipeline(steps=[('transformer',\n",
       "                 ColumnTransformer(remainder='passthrough',\n",
       "                                   transformers=[('Impute', SimpleImputer(),\n",
       "                                                  [1, 7]),\n",
       "                                                 ('Encode',\n",
       "                                                  OneHotEncoder(handle_unknown='ignore',\n",
       "                                                                sparse=False),\n",
       "                                                  [3, 4]),\n",
       "                                                 ('Scale', MinMaxScaler(),\n",
       "                                                  slice(0, 9, None))])),\n",
       "                ('model', RandomForestClassifier())])"
      ]
     },
     "execution_count": 9,
     "metadata": {},
     "output_type": "execute_result"
    }
   ],
   "source": [
    "# Fitting pipeline on training data\n",
    "model.fit(xtrain,ytrain)"
   ]
  },
  {
   "cell_type": "code",
   "execution_count": 10,
   "id": "019f9d4a",
   "metadata": {
    "ExecuteTime": {
     "end_time": "2023-04-07T10:50:56.640897Z",
     "start_time": "2023-04-07T10:50:56.552521Z"
    }
   },
   "outputs": [],
   "source": [
    "# Prediction by using pipeline\n",
    "ypred = model.predict(xtest)"
   ]
  },
  {
   "cell_type": "code",
   "execution_count": 11,
   "id": "6542ceeb",
   "metadata": {
    "ExecuteTime": {
     "end_time": "2023-04-07T10:50:56.673104Z",
     "start_time": "2023-04-07T10:50:56.640897Z"
    }
   },
   "outputs": [
    {
     "name": "stdout",
     "output_type": "stream",
     "text": [
      "              precision    recall  f1-score   support\n",
      "\n",
      "           0       1.00      0.99      0.99      1068\n",
      "           1       0.99      1.00      0.99      1079\n",
      "\n",
      "    accuracy                           0.99      2147\n",
      "   macro avg       0.99      0.99      0.99      2147\n",
      "weighted avg       0.99      0.99      0.99      2147\n",
      "\n"
     ]
    }
   ],
   "source": [
    "# Print classifiation report\n",
    "print(classification_report(ytest,ypred))"
   ]
  },
  {
   "cell_type": "code",
   "execution_count": 15,
   "id": "1c31455d",
   "metadata": {
    "ExecuteTime": {
     "end_time": "2023-04-07T10:51:53.420368Z",
     "start_time": "2023-04-07T10:51:53.404359Z"
    }
   },
   "outputs": [
    {
     "data": {
      "text/plain": [
       "0.9916162086632511"
      ]
     },
     "execution_count": 15,
     "metadata": {},
     "output_type": "execute_result"
    }
   ],
   "source": [
    "# Accuracy\n",
    "accuracy_score(ytest,ypred)"
   ]
  },
  {
   "cell_type": "code",
   "execution_count": 12,
   "id": "80761417",
   "metadata": {
    "ExecuteTime": {
     "end_time": "2023-04-07T10:51:01.003290Z",
     "start_time": "2023-04-07T10:50:56.673104Z"
    }
   },
   "outputs": [
    {
     "data": {
      "text/plain": [
       "0.9849352338482774"
      ]
     },
     "execution_count": 12,
     "metadata": {},
     "output_type": "execute_result"
    }
   ],
   "source": [
    "# Cross validation score\n",
    "cross_val_score(model,xtrain,ytrain,cv=5,scoring='accuracy').mean()"
   ]
  },
  {
   "cell_type": "code",
   "execution_count": 16,
   "id": "543bbf59",
   "metadata": {
    "ExecuteTime": {
     "end_time": "2023-04-07T10:58:14.777006Z",
     "start_time": "2023-04-07T10:58:14.745995Z"
    }
   },
   "outputs": [
    {
     "data": {
      "text/plain": [
       "<bound method Pipeline.get_feature_names_out of Pipeline(steps=[('transformer',\n",
       "                 ColumnTransformer(remainder='passthrough',\n",
       "                                   transformers=[('Impute', SimpleImputer(),\n",
       "                                                  [1, 7]),\n",
       "                                                 ('Encode',\n",
       "                                                  OneHotEncoder(handle_unknown='ignore',\n",
       "                                                                sparse=False),\n",
       "                                                  [3, 4]),\n",
       "                                                 ('Scale', MinMaxScaler(),\n",
       "                                                  slice(0, 9, None))])),\n",
       "                ('model', RandomForestClassifier())])>"
      ]
     },
     "execution_count": 16,
     "metadata": {},
     "output_type": "execute_result"
    }
   ],
   "source": [
    "model.get_feature_names_out"
   ]
  },
  {
   "cell_type": "markdown",
   "id": "8a20c555",
   "metadata": {},
   "source": [
    "# Save the final model :"
   ]
  },
  {
   "cell_type": "code",
   "execution_count": 13,
   "id": "680bdfed",
   "metadata": {
    "ExecuteTime": {
     "end_time": "2023-04-07T10:51:01.015666Z",
     "start_time": "2023-04-07T10:51:01.003290Z"
    }
   },
   "outputs": [],
   "source": [
    "import pickle"
   ]
  },
  {
   "cell_type": "code",
   "execution_count": 14,
   "id": "f36b05f8",
   "metadata": {
    "ExecuteTime": {
     "end_time": "2023-04-07T10:51:01.058509Z",
     "start_time": "2023-04-07T10:51:01.015666Z"
    }
   },
   "outputs": [],
   "source": [
    "pickle.dump(model, open('Churn_Pipeline.pkl', 'wb'))"
   ]
  },
  {
   "cell_type": "code",
   "execution_count": null,
   "id": "0085a93b",
   "metadata": {},
   "outputs": [],
   "source": []
  }
 ],
 "metadata": {
  "kernelspec": {
   "display_name": "Python 3 (ipykernel)",
   "language": "python",
   "name": "python3"
  },
  "language_info": {
   "codemirror_mode": {
    "name": "ipython",
    "version": 3
   },
   "file_extension": ".py",
   "mimetype": "text/x-python",
   "name": "python",
   "nbconvert_exporter": "python",
   "pygments_lexer": "ipython3",
   "version": "3.9.13"
  }
 },
 "nbformat": 4,
 "nbformat_minor": 5
}
